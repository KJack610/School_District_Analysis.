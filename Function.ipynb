{
 "cells": [
  {
   "cell_type": "code",
   "execution_count": 1,
   "id": "5e8836a7",
   "metadata": {},
   "outputs": [],
   "source": [
    "# Define the function \"say_hello\" so it prints \"Hello!\" when called.\n",
    "def say_hello():\n",
    "    print(\"Hello!\")\n"
   ]
  },
  {
   "cell_type": "code",
   "execution_count": 2,
   "id": "035abd39",
   "metadata": {},
   "outputs": [
    {
     "name": "stdout",
     "output_type": "stream",
     "text": [
      "Hello!\n"
     ]
    }
   ],
   "source": [
    "# Call the function.When you run the code, nothing appears to happen because we don't see an output error. \n",
    "#To get the function to print \"Hello!\" in the output cell, we have to call the function.\n",
    "\n",
    "say_hello()\n",
    "\n"
   ]
  },
  {
   "cell_type": "code",
   "execution_count": 3,
   "id": "0415a82c",
   "metadata": {},
   "outputs": [],
   "source": [
    "#Call The Function\n",
    "\n",
    "#Now we'll build on our knowledge of functions and add a parameter inside the parentheses of a new function;\n",
    "#say_something(). A parameter is a value that we send to the function.\n",
    "#Add the following code to a new cell and run the cell.\n",
    "\n",
    "\n",
    "# Define the function \"say_something\" so it prints whatever is passed as the variable when called.\n",
    "def say_something(something):\n",
    "    print(something)\n",
    "    \n",
    "\n",
    "    #Inside the parentheses, we added the variable something. When this function gets called...\n",
    "    #it will print whatever we have added inside the parentheses of the function. \n",
    "    #This doesn't have to be the word \"something\"; it can be whatever you want it to be."
   ]
  },
  {
   "cell_type": "code",
   "execution_count": 4,
   "id": "ec53faa3",
   "metadata": {},
   "outputs": [
    {
     "name": "stdout",
     "output_type": "stream",
     "text": [
      "Hello World\n"
     ]
    }
   ],
   "source": [
    "# Call the function.\n",
    "say_something(\"Hello World\")"
   ]
  },
  {
   "cell_type": "code",
   "execution_count": 5,
   "id": "17be0bc6",
   "metadata": {},
   "outputs": [
    {
     "name": "stdout",
     "output_type": "stream",
     "text": [
      "Hi, my name is Jane. I'm learning Python!\n"
     ]
    }
   ],
   "source": [
    "Jane_says = \"Hi, my name is Jane. I'm learning Python!\"\n",
    "say_something(Jane_says)\n",
    "\n",
    "#Like the string \"Hello World,\" we can also pass a variable inside the function and have that variable printed to the output. In the following code, Jane introduces herself with the string \"Hi, my name is Jane. I'm learning Python!\" We can print her introduction by adding the variable Jane_says inside the say_something() function:"
   ]
  },
  {
   "cell_type": "code",
   "execution_count": null,
   "id": "4f11518b",
   "metadata": {},
   "outputs": [],
   "source": []
  }
 ],
 "metadata": {
  "kernelspec": {
   "display_name": "Python 3",
   "language": "python",
   "name": "python3"
  },
  "language_info": {
   "codemirror_mode": {
    "name": "ipython",
    "version": 3
   },
   "file_extension": ".py",
   "mimetype": "text/x-python",
   "name": "python",
   "nbconvert_exporter": "python",
   "pygments_lexer": "ipython3",
   "version": "3.8.8"
  }
 },
 "nbformat": 4,
 "nbformat_minor": 5
}
